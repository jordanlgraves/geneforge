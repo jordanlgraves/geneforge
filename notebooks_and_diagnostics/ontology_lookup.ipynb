{
 "cells": [
  {
   "cell_type": "markdown",
   "metadata": {},
   "source": [
    "# TYTO"
   ]
  },
  {
   "cell_type": "code",
   "execution_count": 5,
   "metadata": {},
   "outputs": [
    {
     "data": {
      "text/plain": [
       "'inhibitor'"
      ]
     },
     "execution_count": 5,
     "metadata": {},
     "output_type": "execute_result"
    }
   ],
   "source": [
    "# Ontology\n",
    "import tyto\n",
    "\n",
    "uri = 'http://biomodels.net/SBO/SBO_0000020'\n",
    "tyto.SBO.get_term_by_uri(uri)"
   ]
  },
  {
   "cell_type": "code",
   "execution_count": 6,
   "metadata": {},
   "outputs": [
    {
     "data": {
      "text/plain": [
       "'genetic production'"
      ]
     },
     "execution_count": 6,
     "metadata": {},
     "output_type": "execute_result"
    }
   ],
   "source": [
    "uri = 'http://biomodels.net/SBO/SBO_0000589'\n",
    "tyto.SBO.get_term_by_uri(uri)"
   ]
  },
  {
   "cell_type": "code",
   "execution_count": null,
   "metadata": {},
   "outputs": [],
   "source": [
    "uri = 'http://identifiers.org/biomodels.sbo/SBO:0000179'\n",
    "tyto.SBO.get_term_by_uri(uri)"
   ]
  },
  {
   "cell_type": "markdown",
   "metadata": {},
   "source": [
    "# OLS"
   ]
  },
  {
   "cell_type": "code",
   "execution_count": 8,
   "metadata": {},
   "outputs": [
    {
     "name": "stdout",
     "output_type": "stream",
     "text": [
      "id=None annotations=None annotations_trimmed=None description=['Complete disappearance of a physical entity.'] iri='http://biomodels.net/SBO/SBO_0000179' label='degradation' obo_id='SBO:0000179' ontology_name='sbo' ontology_prefix='SBO' subset=None short_form='SBO_0000179' synonyms=None type='class'\n"
     ]
    }
   ],
   "source": [
    "from ols_py.client import Ols4Client\n",
    "client = Ols4Client()\n",
    "resp = client.search(\"0000179\", params={\"ontology\": \"sbo\"})\n",
    "term = resp.response.docs[0]\n",
    "print(term)"
   ]
  },
  {
   "cell_type": "code",
   "execution_count": 3,
   "metadata": {},
   "outputs": [
    {
     "name": "stdout",
     "output_type": "stream",
     "text": [
      "id=None annotations=None annotations_trimmed=None description=['A composite biochemical process through which a gene sequence is fully converted into mature gene products. These gene products may include RNA species as well as proteins, and the process encompasses all intermediate steps required to generate the active form of the gene product.'] iri='http://biomodels.net/SBO/SBO_0000589' label='genetic production' obo_id='SBO:0000589' ontology_name='sbo' ontology_prefix='SBO' subset=None short_form='SBO_0000589' synonyms=None type='class'\n"
     ]
    }
   ],
   "source": [
    "resp = client.search(\"0000589\", params={\"ontology\": \"sbo\"})\n",
    "term = resp.response.docs[0]\n",
    "print(term)"
   ]
  }
 ],
 "metadata": {
  "kernelspec": {
   "display_name": "venv",
   "language": "python",
   "name": "python3"
  },
  "language_info": {
   "codemirror_mode": {
    "name": "ipython",
    "version": 3
   },
   "file_extension": ".py",
   "mimetype": "text/x-python",
   "name": "python",
   "nbconvert_exporter": "python",
   "pygments_lexer": "ipython3",
   "version": "3.11.9"
  }
 },
 "nbformat": 4,
 "nbformat_minor": 2
}
