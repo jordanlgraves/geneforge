{
 "cells": [
  {
   "cell_type": "code",
   "execution_count": 1,
   "metadata": {},
   "outputs": [],
   "source": [
    "%load_ext autoreload\n",
    "%autoreload 2\n",
    "\n",
    "import sys\n",
    "sys.path.append('../src')"
   ]
  },
  {
   "cell_type": "markdown",
   "metadata": {},
   "source": [
    "# UCF JSON"
   ]
  },
  {
   "cell_type": "code",
   "execution_count": 28,
   "metadata": {},
   "outputs": [
    {
     "name": "stdout",
     "output_type": "stream",
     "text": [
      "=== Library Summary ===\n",
      "{\n",
      "  \"total_entries\": 414,\n",
      "  \"metadata_fields\": [\n",
      "    \"description\",\n",
      "    \"version\",\n",
      "    \"date\",\n",
      "    \"author\",\n",
      "    \"organism\",\n",
      "    \"genome\",\n",
      "    \"media\",\n",
      "    \"temperature\",\n",
      "    \"growth\"\n",
      "  ],\n",
      "  \"num_circuit_components\": 1,\n",
      "  \"num_gate_definitions\": 28,\n",
      "  \"num_dna_parts\": 85,\n",
      "  \"num_experimental_datasets\": 14,\n",
      "  \"unique_component_types\": 1\n",
      "}\n",
      "\n",
      "=== Example Entries ===\n",
      "Metadata values: {'collection': 'header...', 'description': 'TetR homologs: PhlF, SrpR, BM3R1, HlyIIR, BetI, AmtR, AmeR...', 'version': 'Eco1C1G1T0...', 'date': 'Thu Dec 24 00:54:52 EST 2015...', 'author': \"['Bryan Der']...\", 'organism': 'Escherichia coli NEB 10-beta...', 'genome': 'NEB 10 ∆(ara-leu) 7697 araD139 fhuA ∆lacX74 galK16 galE15 e14- φ80dlacZ∆M15  recA1 relA1 endA1 nupG ...', 'media': 'M9 minimal media composed of M9 media salts (6.78 g/L Na2HPO4, 3 g/L KH2PO4, 1 g/L NH4Cl, 0.5 g/L Na...', 'temperature': '37...', 'growth': 'Inoculation: Individual colonies into M9 media, 16 hours overnight in plate shaker.  Dilution: Next ...'}\n",
      "Circuit Component: {'outputs': ['y'], 'inputs': ['a', 'b', 'c']}\n",
      "Gate Definition: AmtR\n",
      "DNA Part: BydvJ...\n",
      "Experimental Data: F1_AmeR\n"
     ]
    }
   ],
   "source": [
    "import json\n",
    "\n",
    "def describe_library(lib):\n",
    "    description = {\n",
    "        'metadata': {},\n",
    "        'circuit_components': [],\n",
    "        'gate_definitions': [],\n",
    "        'dna_parts': [],\n",
    "        'experimental_data': [],\n",
    "        'miscellaneous': []\n",
    "    }\n",
    "    \n",
    "    for i, item in enumerate(lib):\n",
    "        # Track collection metadata\n",
    "        if i == 0:\n",
    "            description['metadata'] = {k:v for k,v in item.items() if k != 'collection'}\n",
    "            \n",
    "        # Circuit components (common pattern)\n",
    "        if all(k in item for k in ['outputs', 'inputs', 'netlist']):\n",
    "            desc = {\n",
    "                'type': 'circuit_component',\n",
    "                'structure': list(item.keys()),\n",
    "                'example_inputs': item.get('inputs', []),\n",
    "                'example_outputs': item.get('outputs', [])\n",
    "            }\n",
    "            if not any(d['structure'] == desc['structure'] for d in description['circuit_components']):\n",
    "                description['circuit_components'].append(desc)\n",
    "                \n",
    "        # Gate definitions (different types)\n",
    "        elif 'regulator' in item:\n",
    "            desc = {\n",
    "                'type': 'gate_definition',\n",
    "                'properties': list(item.keys()),\n",
    "                'example_regulator': item.get('regulator'),\n",
    "                'example_gate_type': item.get('gate_type')\n",
    "            }\n",
    "            description['gate_definitions'].append(desc)\n",
    "            \n",
    "        # Mathematical models\n",
    "        elif 'equation' in item:\n",
    "            desc = {\n",
    "                'type': 'gate_model',\n",
    "                'equation_variables': item.get('variables', []),\n",
    "                'parameters': item.get('parameters', [])\n",
    "            }\n",
    "            description['gate_definitions'].append(desc)\n",
    "            \n",
    "        # DNA parts\n",
    "        elif 'dnasequence' in item:\n",
    "            desc = {\n",
    "                'type': 'dna_part',\n",
    "                'name': item.get('name'),\n",
    "                'sequence_length': len(item.get('dnasequence', ''))\n",
    "            }\n",
    "            description['dna_parts'].append(desc)\n",
    "            \n",
    "        # Experimental data\n",
    "        elif 'cytometry_data' in item:\n",
    "            description['experimental_data'].append({\n",
    "                'gate': item.get('gate_name'),\n",
    "                'data_type': 'cytometry'\n",
    "            })\n",
    "            \n",
    "        # Other categories\n",
    "        else:\n",
    "            description['miscellaneous'].append({\n",
    "                'index': i,\n",
    "                'keys': list(item.keys())\n",
    "            })\n",
    "    \n",
    "    # Create summary stats\n",
    "    summary = {\n",
    "        'total_entries': len(lib),\n",
    "        'metadata_fields': list(description['metadata'].keys()),\n",
    "        'num_circuit_components': len(description['circuit_components']),\n",
    "        'num_gate_definitions': len(description['gate_definitions']),\n",
    "        'num_dna_parts': len(description['dna_parts']),\n",
    "        'num_experimental_datasets': len(description['experimental_data']),\n",
    "        # Fixed line below by converting list to tuple\n",
    "        'unique_component_types': len({tuple(c['structure']) for c in description['circuit_components']})\n",
    "        \n",
    "    }\n",
    "    \n",
    "    return {'summary': summary, 'details': description}\n",
    "    \n",
    "\n",
    "# Usage:\n",
    "lib = json.load(open('../libs/cello-ucf/Eco1C1G1T0.UCF.json'))\n",
    "report = describe_library(lib)\n",
    "\n",
    "# Print condensed version for LLM input\n",
    "print(\"=== Library Summary ===\")\n",
    "print(json.dumps(report['summary'], indent=2))\n",
    "print(\"\\n=== Example Entries ===\")\n",
    "print(\"Metadata values:\", {k: str(v)[:100] + \"...\" for k,v in lib[0].items()})\n",
    "print(\"Circuit Component:\", {k: lib[3][k] for k in ['outputs', 'inputs']})\n",
    "print(\"Gate Definition:\", lib[257]['regulator'])\n",
    "print(\"DNA Part:\", lib[299]['name'][:100] + \"...\")\n",
    "print(\"Experimental Data:\", lib[398]['gate_name'])"
   ]
  },
  {
   "cell_type": "code",
   "execution_count": null,
   "metadata": {},
   "outputs": [],
   "source": [
    "lib = json.load(open('../libs/cello-ucf/Eco1C1G1T0.UCF.json'))\n",
    "describe_library(lib)"
   ]
  },
  {
   "cell_type": "code",
   "execution_count": null,
   "metadata": {},
   "outputs": [],
   "source": [
    "lib = json.load(open('../libs/cello-ucf/Eco1C1G1T1.pAN1201.UCF.json'))\n",
    "describe_library(lib)"
   ]
  },
  {
   "cell_type": "markdown",
   "metadata": {},
   "source": [
    "# SBOL XML"
   ]
  },
  {
   "cell_type": "code",
   "execution_count": 72,
   "metadata": {},
   "outputs": [
    {
     "name": "stdout",
     "output_type": "stream",
     "text": [
      "Design........................0\n",
      "Build.........................0\n",
      "Test..........................0\n",
      "Analysis......................0\n",
      "ComponentDefinition...........160\n",
      "ModuleDefinition..............70\n",
      "Model.........................0\n",
      "Sequence......................129\n",
      "Collection....................1\n",
      "Activity......................1\n",
      "Plan..........................0\n",
      "Agent.........................1\n",
      "Attachment....................35\n",
      "CombinatorialDerivation.......0\n",
      "Implementation................0\n",
      "SampleRoster..................0\n",
      "Experiment....................0\n",
      "ExperimentalData..............0\n",
      "Annotation Objects............0\n",
      "---\n",
      "Total: .........................397\n",
      "\n"
     ]
    }
   ],
   "source": [
    "import sbol2\n",
    "\n",
    "doc = sbol2.Document()\n",
    "doc.read('../libs/synbiohub/Eco1C1G1T1_collection.xml')\n",
    "print(doc)"
   ]
  }
 ],
 "metadata": {
  "kernelspec": {
   "display_name": "venv",
   "language": "python",
   "name": "python3"
  },
  "language_info": {
   "codemirror_mode": {
    "name": "ipython",
    "version": 3
   },
   "file_extension": ".py",
   "mimetype": "text/x-python",
   "name": "python",
   "nbconvert_exporter": "python",
   "pygments_lexer": "ipython3",
   "version": "3.11.9"
  }
 },
 "nbformat": 4,
 "nbformat_minor": 2
}
